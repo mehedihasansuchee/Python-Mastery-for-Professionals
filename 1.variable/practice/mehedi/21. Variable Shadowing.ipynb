{
 "cells": [
  {
   "cell_type": "markdown",
   "metadata": {},
   "source": [
    "### Simle Example:"
   ]
  },
  {
   "cell_type": "code",
   "execution_count": 1,
   "metadata": {},
   "outputs": [
    {
     "name": "stdout",
     "output_type": "stream",
     "text": [
      "Inside function: 5\n",
      "Outside function: 10\n"
     ]
    }
   ],
   "source": [
    "x = 10      # global variable\n",
    "\n",
    "def my_func():\n",
    "    x = 5   # local variable shadows the global one\n",
    "    print(\"Inside function:\", x)\n",
    "\n",
    "my_func()\n",
    "print(\"Outside function:\", x)"
   ]
  }
 ],
 "metadata": {
  "kernelspec": {
   "display_name": "Python 3",
   "language": "python",
   "name": "python3"
  },
  "language_info": {
   "codemirror_mode": {
    "name": "ipython",
    "version": 3
   },
   "file_extension": ".py",
   "mimetype": "text/x-python",
   "name": "python",
   "nbconvert_exporter": "python",
   "pygments_lexer": "ipython3",
   "version": "3.13.0"
  }
 },
 "nbformat": 4,
 "nbformat_minor": 2
}
