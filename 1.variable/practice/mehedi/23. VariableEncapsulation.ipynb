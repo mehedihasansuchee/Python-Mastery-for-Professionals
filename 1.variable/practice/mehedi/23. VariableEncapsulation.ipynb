{
 "cells": [
  {
   "cell_type": "code",
   "execution_count": 2,
   "metadata": {},
   "outputs": [
    {
     "name": "stdout",
     "output_type": "stream",
     "text": [
      "Alice\n"
     ]
    }
   ],
   "source": [
    "class Studet:\n",
    "    def __init__(self):\n",
    "        self.__name = \"Alice\"   # private variable\n",
    "\n",
    "    def get_name(self):\n",
    "        return self.__name      # getter\n",
    "\n",
    "\n",
    "s = Studet()\n",
    "print(s.get_name())"
   ]
  }
 ],
 "metadata": {
  "kernelspec": {
   "display_name": "Python 3",
   "language": "python",
   "name": "python3"
  },
  "language_info": {
   "codemirror_mode": {
    "name": "ipython",
    "version": 3
   },
   "file_extension": ".py",
   "mimetype": "text/x-python",
   "name": "python",
   "nbconvert_exporter": "python",
   "pygments_lexer": "ipython3",
   "version": "3.13.0"
  }
 },
 "nbformat": 4,
 "nbformat_minor": 2
}
