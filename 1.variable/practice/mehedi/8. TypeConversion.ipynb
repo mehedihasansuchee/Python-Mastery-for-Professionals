{
 "cells": [
  {
   "cell_type": "markdown",
   "metadata": {},
   "source": [
    "## 1. Implicit Type Conversion (Type Coercion)"
   ]
  },
  {
   "cell_type": "markdown",
   "metadata": {},
   "source": [
    "Definition: Python automatically converts one data type into another when needed, without any explicit instructions from the programmer. This usually happens when mixing different types in an operation.\n",
    "\n",
    "Example: When adding an integer to a float, Python automatically converts the integer to a float to avoid losing data."
   ]
  },
  {
   "cell_type": "code",
   "execution_count": 1,
   "metadata": {},
   "outputs": [
    {
     "name": "stdout",
     "output_type": "stream",
     "text": [
      "13.14\n"
     ]
    }
   ],
   "source": [
    "# Implicit type conversion (automatically done by Python)\n",
    "x = 10       # integer\n",
    "y = 3.14     # float\n",
    "\n",
    "result = x + y\n",
    "print(result)"
   ]
  }
 ],
 "metadata": {
  "kernelspec": {
   "display_name": "Python 3",
   "language": "python",
   "name": "python3"
  },
  "language_info": {
   "codemirror_mode": {
    "name": "ipython",
    "version": 3
   },
   "file_extension": ".py",
   "mimetype": "text/x-python",
   "name": "python",
   "nbconvert_exporter": "python",
   "pygments_lexer": "ipython3",
   "version": "3.13.0"
  }
 },
 "nbformat": 4,
 "nbformat_minor": 2
}
