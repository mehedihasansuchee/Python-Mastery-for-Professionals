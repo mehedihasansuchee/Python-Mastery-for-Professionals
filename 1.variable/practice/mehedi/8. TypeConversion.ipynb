{
 "cells": [
  {
   "cell_type": "markdown",
   "metadata": {},
   "source": [
    "## 1. Implicit Type Conversion (Type Coercion)"
   ]
  },
  {
   "cell_type": "markdown",
   "metadata": {},
   "source": [
    "Definition: Python automatically converts one data type into another when needed, without any explicit instructions from the programmer. This usually happens when mixing different types in an operation.\n",
    "\n",
    "Example: When adding an integer to a float, Python automatically converts the integer to a float to avoid losing data."
   ]
  },
  {
   "cell_type": "code",
   "execution_count": 1,
   "metadata": {},
   "outputs": [
    {
     "name": "stdout",
     "output_type": "stream",
     "text": [
      "13.14\n"
     ]
    }
   ],
   "source": [
    "# Implicit type conversion (automatically done by Python)\n",
    "x = 10       # integer\n",
    "y = 3.14     # float\n",
    "\n",
    "result = x + y\n",
    "print(result)"
   ]
  },
  {
   "cell_type": "markdown",
   "metadata": {},
   "source": [
    "## 2. Explicit Type Conversion (Type Casting)"
   ]
  },
  {
   "cell_type": "markdown",
   "metadata": {},
   "source": [
    "Definition: Explicit type conversion, also known as type casting, occurs when the programmer manually converts one data type to another using built-in functions like int(), float(), str(), list(), etc.\n",
    "\n",
    "Common functions for explicit type conversion:\n",
    "* int(): Converts to an integer.\n",
    "* float(): Converts to a float.\n",
    "* str(): Converts to a string.\n",
    "* list(): Converts to a list"
   ]
  },
  {
   "cell_type": "markdown",
   "metadata": {},
   "source": [
    "### 1. Converting a String to an Integer"
   ]
  },
  {
   "cell_type": "code",
   "execution_count": 2,
   "metadata": {},
   "outputs": [
    {
     "name": "stdout",
     "output_type": "stream",
     "text": [
      "123\n"
     ]
    }
   ],
   "source": [
    "x = \"123\"  # string\n",
    "y = int(x)  # convert string to integer\n",
    "print(y)  # Output: 123 (integer)"
   ]
  },
  {
   "cell_type": "markdown",
   "metadata": {},
   "source": [
    "### 2. Converting an Integer to a String"
   ]
  },
  {
   "cell_type": "code",
   "execution_count": 3,
   "metadata": {},
   "outputs": [
    {
     "name": "stdout",
     "output_type": "stream",
     "text": [
      "123\n"
     ]
    }
   ],
   "source": [
    "x = 123  # integer\n",
    "y = str(x)  # convert integer to string\n",
    "print(y)  # Output: \"123\" (string)"
   ]
  },
  {
   "cell_type": "markdown",
   "metadata": {},
   "source": [
    "### 3. Converting a Float to an Integer (Truncation)"
   ]
  },
  {
   "cell_type": "code",
   "execution_count": 5,
   "metadata": {},
   "outputs": [
    {
     "name": "stdout",
     "output_type": "stream",
     "text": [
      "3\n"
     ]
    }
   ],
   "source": [
    "x = 3.14  # float\n",
    "y = int(x)  # convert float to integer (truncates the decimal part)\n",
    "print(y)  # Output: 3 (integer)"
   ]
  },
  {
   "cell_type": "markdown",
   "metadata": {},
   "source": [
    "### 4. Converting a String to a Float"
   ]
  },
  {
   "cell_type": "code",
   "execution_count": 6,
   "metadata": {},
   "outputs": [
    {
     "name": "stdout",
     "output_type": "stream",
     "text": [
      "3.14\n"
     ]
    }
   ],
   "source": [
    "x = \"3.14\"  # string\n",
    "y = float(x)  # convert string to float\n",
    "print(y)  # Output: 3.14 (float)"
   ]
  }
 ],
 "metadata": {
  "kernelspec": {
   "display_name": "Python 3",
   "language": "python",
   "name": "python3"
  },
  "language_info": {
   "codemirror_mode": {
    "name": "ipython",
    "version": 3
   },
   "file_extension": ".py",
   "mimetype": "text/x-python",
   "name": "python",
   "nbconvert_exporter": "python",
   "pygments_lexer": "ipython3",
   "version": "3.13.0"
  }
 },
 "nbformat": 4,
 "nbformat_minor": 2
}
