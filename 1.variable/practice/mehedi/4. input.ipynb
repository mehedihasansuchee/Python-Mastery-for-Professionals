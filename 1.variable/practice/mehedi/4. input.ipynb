{
 "cells": [
  {
   "cell_type": "code",
   "execution_count": 4,
   "metadata": {},
   "outputs": [
    {
     "name": "stdout",
     "output_type": "stream",
     "text": [
      "Welcome to python, Mehedi !\n"
     ]
    }
   ],
   "source": [
    "name = input(\"What is your name?\")\n",
    "print(\"Welcome to python,\", name, \"!\")"
   ]
  },
  {
   "cell_type": "code",
   "execution_count": 6,
   "metadata": {},
   "outputs": [
    {
     "name": "stdout",
     "output_type": "stream",
     "text": [
      "Welcome!\n"
     ]
    }
   ],
   "source": [
    "password = input()\n",
    "print(\"Welcome!\")"
   ]
  },
  {
   "cell_type": "code",
   "execution_count": 7,
   "metadata": {},
   "outputs": [
    {
     "name": "stdout",
     "output_type": "stream",
     "text": [
      "Your language is python !\n"
     ]
    }
   ],
   "source": [
    "language = input(\"What is your language?\")\n",
    "print(\"Your language is\", language,\"!\")"
   ]
  },
  {
   "cell_type": "code",
   "execution_count": 8,
   "metadata": {},
   "outputs": [
    {
     "name": "stdout",
     "output_type": "stream",
     "text": [
      "number1 + number2 = 43\n"
     ]
    }
   ],
   "source": [
    "number1 = input(\"type an integer and press enter: \") #4\n",
    "number2 = input(\"type an integer and press enter: \") #3\n",
    "\n",
    "print(\"number1 + number2 =\", number1+number2)"
   ]
  },
  {
   "cell_type": "code",
   "execution_count": 11,
   "metadata": {},
   "outputs": [
    {
     "name": "stdout",
     "output_type": "stream",
     "text": [
      "number1 + number2 = 6\n"
     ]
    }
   ],
   "source": [
    "number1 = input(\"type an integer and press enter: \")\n",
    "number2 = input(\"type an integer and press enter: \")\n",
    "number1 = int(number1)\n",
    "number2 = int(number2)\n",
    "\n",
    "print(\"number1 + number2 =\", number1 + number2)"
   ]
  }
 ],
 "metadata": {
  "kernelspec": {
   "display_name": "Python 3",
   "language": "python",
   "name": "python3"
  },
  "language_info": {
   "codemirror_mode": {
    "name": "ipython",
    "version": 3
   },
   "file_extension": ".py",
   "mimetype": "text/x-python",
   "name": "python",
   "nbconvert_exporter": "python",
   "pygments_lexer": "ipython3",
   "version": "3.13.0"
  }
 },
 "nbformat": 4,
 "nbformat_minor": 2
}
