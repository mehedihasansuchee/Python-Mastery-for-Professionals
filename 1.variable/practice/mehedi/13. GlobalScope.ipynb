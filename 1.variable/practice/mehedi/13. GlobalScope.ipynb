{
 "cells": [
  {
   "cell_type": "code",
   "execution_count": 1,
   "metadata": {},
   "outputs": [
    {
     "name": "stdout",
     "output_type": "stream",
     "text": [
      "I am Global\n"
     ]
    }
   ],
   "source": [
    "x = \"I am Global\"\n",
    "\n",
    "def show():\n",
    "    print(x)    # accessing global variable\n",
    "\n",
    "show()"
   ]
  },
  {
   "cell_type": "code",
   "execution_count": 3,
   "metadata": {},
   "outputs": [
    {
     "name": "stdout",
     "output_type": "stream",
     "text": [
      "Inside: 5\n",
      "Outside: 10\n"
     ]
    }
   ],
   "source": [
    "x = 10\n",
    "\n",
    "def main():\n",
    "    x = 5       # this creats a new local x, doesn't change global x\n",
    "    print(\"Inside:\", 5)\n",
    "\n",
    "main()\n",
    "print(\"Outside:\", x)"
   ]
  },
  {
   "cell_type": "code",
   "execution_count": 8,
   "metadata": {},
   "outputs": [
    {
     "name": "stdout",
     "output_type": "stream",
     "text": [
      "Inside: 5\n",
      "Outside: 5\n"
     ]
    }
   ],
   "source": [
    "x = 10\n",
    "\n",
    "def change():\n",
    "    global x\n",
    "    x = 5      # modifies the global x\n",
    "    print(\"Inside:\", x)\n",
    "\n",
    "change()\n",
    "print(\"Outside:\", x)"
   ]
  }
 ],
 "metadata": {
  "kernelspec": {
   "display_name": "Python 3",
   "language": "python",
   "name": "python3"
  },
  "language_info": {
   "codemirror_mode": {
    "name": "ipython",
    "version": 3
   },
   "file_extension": ".py",
   "mimetype": "text/x-python",
   "name": "python",
   "nbconvert_exporter": "python",
   "pygments_lexer": "ipython3",
   "version": "3.13.0"
  }
 },
 "nbformat": 4,
 "nbformat_minor": 2
}
